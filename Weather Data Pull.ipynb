{
 "cells": [
  {
   "cell_type": "code",
   "execution_count": 36,
   "metadata": {
    "collapsed": false
   },
   "outputs": [
    {
     "name": "stdout",
     "output_type": "stream",
     "text": [
      "['4130.0' '20050102.0' '1.201' '-113.43' '48.74' '-4.4' '-24.2' '-14.3'\n",
      " '-15.3' '0.0' '2.88' 'N/A' '-9999.0' '-9999.0' '-18.1' '-9999.0' '-9999.0'\n",
      " '-9999.0' '-99.0' '-99.0' '-99.0' '-99.0' '-99.0' '-9999.0' '-9999.0'\n",
      " '-9999.0' '-9999.0' '-9999.0']\n"
     ]
    }
   ],
   "source": [
    "import numpy as np\n",
    "\n",
    "weather_data = np.loadtxt('Weather_Data St. Mary.txt',dtype=str)\n",
    "for i in range(len(weather_data)):\n",
    "    for j in range(len(weather_data[i])):\n",
    "            name = weather_data[i,j]\n",
    "            data = name.replace('\\'','')\n",
    "            if(data.isalpha() == False):     \n",
    "                number = data.replace('b','')\n",
    "                weather_data[i,j] = float(number)\n",
    "            else:\n",
    "                weather_data[i,j] = \"N/A\"\n",
    "                \n",
    "\n",
    "print(weather_data[1])\n",
    "\n",
    "\n"
   ]
  },
  {
   "cell_type": "code",
   "execution_count": null,
   "metadata": {
    "collapsed": true
   },
   "outputs": [],
   "source": []
  }
 ],
 "metadata": {
  "kernelspec": {
   "display_name": "Python 3",
   "language": "python",
   "name": "python3"
  },
  "language_info": {
   "codemirror_mode": {
    "name": "ipython",
    "version": 3
   },
   "file_extension": ".py",
   "mimetype": "text/x-python",
   "name": "python",
   "nbconvert_exporter": "python",
   "pygments_lexer": "ipython3",
   "version": "3.6.0"
  }
 },
 "nbformat": 4,
 "nbformat_minor": 2
}
