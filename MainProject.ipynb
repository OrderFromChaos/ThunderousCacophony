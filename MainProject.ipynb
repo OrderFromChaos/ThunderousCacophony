{
 "cells": [
  {
   "cell_type": "code",
   "execution_count": 7,
   "metadata": {
    "collapsed": false
   },
   "outputs": [],
   "source": [
    "import WDataPull as WDP\n",
    "\n",
    "weather = WDP.load_Data(\"Weather_Fairbanks\")\n",
    "temp_max = WDP.pull_TempHrMax(weather)\n",
    "tempMax = open('MaxTemperature.txt','w')\n",
    "tempMax.write(''.join([str(x) + ' ' for x in temp_max]))\n",
    "tempMax.close()\n",
    "\n",
    "precip_avg = WDP.pull_Precip(weather)\n",
    "precip = open('AvgPrecipation.txt','w')\n",
    "precip.write(''.join([str(x) + ' ' for x in precip_avg]))\n",
    "precip.close()\n",
    "\n",
<<<<<<< HEAD
    "humi_avg = WDP.pull_Humi(weather)\n",
=======
    "humi_avg = WDP.pull_Precip(weather)\n",
>>>>>>> a52b7ebceb75a0e3a1213cb8f578d12cfed82add
    "humi = open('AvgHumidity.txt','w')\n",
    "humi.write(''.join([str(x) + ' ' for x in humi_avg]))\n",
    "humi.close()\n",
    "\n"
   ]
  },
  {
   "cell_type": "code",
   "execution_count": null,
   "metadata": {
    "collapsed": true
   },
   "outputs": [],
   "source": []
  }
 ],
 "metadata": {
  "kernelspec": {
   "display_name": "Python 3",
   "language": "python",
   "name": "python3"
  },
  "language_info": {
   "codemirror_mode": {
    "name": "ipython",
    "version": 3
   },
   "file_extension": ".py",
   "mimetype": "text/x-python",
   "name": "python",
   "nbconvert_exporter": "python",
   "pygments_lexer": "ipython3",
   "version": "3.6.0"
  }
 },
 "nbformat": 4,
 "nbformat_minor": 2
}
