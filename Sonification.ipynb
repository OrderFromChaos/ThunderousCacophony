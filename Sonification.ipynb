{
 "cells": [
  {
   "cell_type": "code",
   "execution_count": 1,
   "metadata": {
    "collapsed": true
   },
   "outputs": [],
   "source": [
    "import math\n",
    "import audiolazy as al\n",
    "import pyaudio as pa"
   ]
  },
  {
   "cell_type": "code",
   "execution_count": 98,
   "metadata": {
    "collapsed": true
   },
   "outputs": [],
   "source": [
    "def playlist(freq, timestep,sampling):\n",
    "    #Accepts a list of frequencies and plays them with timestep lag\n",
    "    # Setup ----------------------\n",
    "    rate = sampling\n",
    "    s, Hz = al.sHz(rate)\n",
    "    ms = 1e-3 * s\n",
    "    # Note queue -----------------\n",
    "    note_init = al.karplus_strong(int(freq[0]) * Hz)\n",
    "    notes = note_init\n",
    "    for i in range(1,len(freq)):\n",
    "        notes += al.zeros(timestep * i * ms).append(al.karplus_strong(freq[i] * Hz))\n",
    "    notes *= 0.5\n",
    "    sound = notes.take(10 * s)\n",
    "    with al.AudioIO(True) as player: # True means \"wait for all sounds to stop\"\n",
    "        player.play(sound, rate=rate)"
   ]
  },
  {
   "cell_type": "code",
   "execution_count": 65,
   "metadata": {
    "collapsed": false
   },
   "outputs": [],
   "source": [
    "#playlist([440,880,100,200,300,400,500,600,700,800,900],300)\n",
    "playlist([100,200,300,400],300,31415) #Bach??"
   ]
  },
  {
   "cell_type": "code",
   "execution_count": 6,
   "metadata": {
    "collapsed": false
   },
   "outputs": [],
   "source": [
    "#Experimenting with AudioIO module\n",
    "with al.AudioIO(True) as player:\n",
    "    player.play([500], rate= 64000)"
   ]
  },
  {
   "cell_type": "code",
   "execution_count": 26,
   "metadata": {
    "collapsed": false
   },
   "outputs": [
    {
     "name": "stdout",
     "output_type": "stream",
     "text": [
      "[['21', 'A0', '27.5'], ['22', 'A#0', '29.1'], ['23', 'B0', '30.9'], ['24', 'C1', '32.7'], ['25', 'C#1', '34.6'], ['26', 'D1', '36.7'], ['27', 'D#1', '38.9'], ['28', 'E1', '41.2'], ['29', 'F1', '43.7'], ['30', 'F#1', '46.2'], ['31', 'G1', '49.0'], ['32', 'G#1', '51.9'], ['33', 'A1', '55.0'], ['34', 'A#1', '58.3'], ['35', 'B1', '61.7'], ['36', 'C2', '65.4'], ['37', 'C#2', '69.3'], ['38', 'D2', '73.4'], ['39', 'D#2', '77.8'], ['40', 'E2', '82.4'], ['41', 'F2', '87.3'], ['42', 'F#2', '92.5'], ['43', 'G2', '98.0'], ['44', 'G#2', '103.8'], ['45', 'A2', '110.0'], ['46', 'A#2', '116.5'], ['47', 'B2', '123.5'], ['48', 'C3', '130.8'], ['49', 'C#3', '138.6'], ['50', 'D3', '146.8'], ['51', 'D#3', '155.6'], ['52', 'E3', '164.8'], ['53', 'F3', '174.6'], ['54', 'F#3', '185.0'], ['55', 'G3', '196.0'], ['56', 'G#3', '207.7'], ['57', 'A3', '220.0'], ['58', 'A#3', '233.1'], ['59', 'B3', '246.9'], ['60', 'C4', '261.6'], ['61', 'C#4', '277.2'], ['62', 'D4', '293.7'], ['63', 'D#4', '311.1'], ['64', 'E4', '329.6'], ['65', 'F4', '349.2'], ['66', 'F#4', '370.0'], ['67', 'G4', '392.0'], ['68', 'G#4', '415.3'], ['69', 'A4', '440.0'], ['70', 'A#4', '466.2'], ['71', 'B4', '493.9'], ['72', 'C5', '523.3'], ['73', 'C#5', '554.4'], ['74', 'D5', '587.3'], ['75', 'D#5', '622.3'], ['76', 'E5', '659.3'], ['77', 'F5', '698.5'], ['78', 'F#5', '740.0'], ['79', 'G5', '784.0'], ['80', 'G#5', '830.6'], ['81', 'A5', '880.0'], ['82', 'A#5', '932.3'], ['83', 'B5', '987.8'], ['84', 'C6', '1046.5'], ['85', 'C#6', '1108.7'], ['86', 'D6', '1174.7'], ['87', 'D#6', '1244.5'], ['88', 'E6', '1318.5'], ['89', 'F6', '1396.9'], ['90', 'F#6', '1480.0'], ['91', 'G6', '1568.0'], ['92', 'G#6', '1661.2'], ['93', 'A6', '1760.0'], ['94', 'A#6', '1864.7'], ['95', 'B6', '1975.5'], ['96', 'C7', '2093.0'], ['97', 'C#7', '2217.5'], ['98', 'D7', '2349.3'], ['99', 'D#7', '2489.0'], ['100', 'E7', '2637.0'], ['101', 'F7', '2793.8'], ['102', 'F#7', '2960.0'], ['103', 'G7', '3136.0'], ['104', 'G#7', '3322.4'], ['105', 'A7', '3520.0'], ['106', 'A#7', '3729.3'], ['107', 'B7', '3951.1'], ['108', 'C8', '4186.0']]\n"
     ]
    }
   ],
   "source": [
    "#Conversion interactions\n",
    "#Basic imports -------------------------------\n",
    "from selenium import webdriver\n",
    "browser = webdriver.Chrome(r'C:\\Users\\Syris Norelli\\Downloads\\ChromeDriver\\ChromeDriver.exe')\n",
    "wait = browser.implicitly_wait(10)\n",
    "find_css = browser.find_element_by_css_selector\n",
    "find_xpath = browser.find_element_by_xpath\n",
    "#Grabbing freq <-> note <-> midi info --------\n",
    "wait\n",
    "browser.get('http://glassarmonica.com/science/frequency_midi.php')\n",
    "conversions = find_xpath('//*[@id=\"main\"]/table/tbody/tr/td[1]/table/tbody').text\n",
    "conversions = [x.split(' ') for x in conversions.split('\\n')[1:]]\n",
    "print(conversions)"
   ]
  },
  {
   "cell_type": "code",
   "execution_count": 35,
   "metadata": {
    "collapsed": false
   },
   "outputs": [
    {
     "name": "stdout",
     "output_type": "stream",
     "text": [
      "[27.5, 29.1, 30.9, 32.7, 34.6, 36.7, 38.9, 41.2, 43.7, 46.2, 49.0, 51.9, 55.0, 58.3, 61.7, 65.4, 69.3, 73.4, 77.8, 82.4, 87.3, 92.5, 98.0, 103.8, 110.0, 116.5, 123.5, 130.8, 138.6, 146.8, 155.6, 164.8, 174.6, 185.0, 196.0, 207.7, 220.0, 233.1, 246.9, 261.6, 277.2, 293.7, 311.1, 329.6, 349.2, 370.0, 392.0, 415.3, 440.0, 466.2, 493.9, 523.3, 554.4, 587.3, 622.3, 659.3, 698.5, 740.0, 784.0, 830.6, 880.0, 932.3, 987.8, 1046.5, 1108.7, 1174.7, 1244.5, 1318.5, 1396.9, 1480.0, 1568.0, 1661.2, 1760.0, 1864.7, 1975.5, 2093.0, 2217.5, 2349.3, 2489.0, 2637.0, 2793.8, 2960.0, 3136.0, 3322.4, 3520.0, 3729.3, 3951.1, 4186.0]\n",
      "88\n"
     ]
    }
   ],
   "source": [
    "frequencies = [float(x[2]) for x in conversions]\n",
    "playlist(frequencies[50:70],200,31415)"
   ]
  },
  {
   "cell_type": "code",
   "execution_count": 62,
   "metadata": {
    "collapsed": false
   },
   "outputs": [],
   "source": [
    "def playlistChords(freq, timestep, sampling):\n",
    "    #Accepts a list of same-time frequencies and plays them with timestep lag\n",
    "    # Setup ----------------------\n",
    "    rate = int(sampling)\n",
    "    s, Hz = al.sHz(rate)\n",
    "    ms = 1e-3 * s\n",
    "    # Note queue -----------------\n",
    "    note_init = al.karplus_strong(int(freq[0]) * Hz)\n",
    "    notes = note_init\n",
    "    \n",
    "    for i in range(1,len(freq)):\n",
    "        if isinstance(freq[i],list) == True:\n",
    "            for j in range(len(freq[i])):\n",
    "                notes += al.zeros(timestep * i * ms + j * ms).append(al.karplus_strong(freq[i][j] * Hz))\n",
    "        else:\n",
    "            notes += al.zeros(timestep * i * ms).append(al.karplus_strong(freq[i] * Hz))\n",
    "    \n",
    "    notes *= 0.5\n",
    "    sound = notes.take(10 * s)\n",
    "    with al.AudioIO(True) as player: # True means \"wait for all sounds to stop\"\n",
    "        player.play(sound, rate=rate)"
   ]
  },
  {
   "cell_type": "code",
   "execution_count": 64,
   "metadata": {
    "collapsed": false
   },
   "outputs": [],
   "source": [
    "playlistChords([300,[440,880],400,500,[400,800,1200,1600]],300,31415)"
   ]
  },
  {
   "cell_type": "code",
   "execution_count": 112,
   "metadata": {
    "collapsed": true
   },
   "outputs": [],
   "source": [
    "def applyEquationMapping(data,ranges):\n",
    "    data = [1/(1+math.e**-i) for i in data] # <------- Feel free to change this equation\n",
    "    #Don't mess with this line:\n",
    "    data = [(x-min(data))/(max(data)-min(data))*(ranges[1]-ranges[0])+ranges[0] for x in data]\n",
    "    return data"
   ]
  },
  {
   "cell_type": "code",
   "execution_count": 114,
   "metadata": {
    "collapsed": false
   },
   "outputs": [
    {
     "name": "stdout",
     "output_type": "stream",
     "text": [
      "[200.0, 200.00000460413565, 200.0000171194738, 200.0000511396888, 200.00014361621206, 200.00039499339832, 200.00107830694452, 200.00293574211008, 200.00798474754438, 200.0217091690692, 200.05901455026574, 200.16041027051176, 200.43595249344784, 201.18436388229804, 203.21440744876057, 208.70070358875236, 223.38207045041835, 261.6536329238475, 354.96379713688793, 549.6238477809936, 850.0000023020677, 1150.376156823142, 1345.0362074672476, 1438.3463716802883, 1476.6179341537174, 1491.2993010153834, 1496.7855971553752, 1498.8156407218378, 1499.564052110688, 1499.8395943336238, 1499.94099005387, 1499.9782954350667, 1499.9920198565912, 1499.9970688620256, 1499.998926297191, 1499.9996096107373, 1499.9998609879237, 1499.999953464447, 1499.999987484662, 1500.0]\n"
     ]
    },
    {
     "data": {
      "image/png": "[encoded data removed]",
      "text/plain": [
       "<matplotlib.figure.Figure at 0x1b3aa3533c8>"
      ]
     },
     "metadata": {},
     "output_type": "display_data"
    }
   ],
   "source": [
    "parabola = applyEquationMapping(range(-20,20),[200,1500])\n",
    "print(parabola)\n",
    "import matplotlib.pyplot as pypl\n",
    "pypl.plot([x for x in range(-20,20)],parabola)\n",
    "pypl.ylabel('Frequency in Hz')\n",
    "pypl.xlabel('x value in equation')\n",
    "pypl.show()"
   ]
  },
  {
   "cell_type": "code",
   "execution_count": 115,
   "metadata": {
    "collapsed": false
   },
   "outputs": [],
   "source": [
    "playlist(parabola,300,31415)\n",
    "#Way of finding what note is currently playing?"
   ]
  },
  {
   "cell_type": "code",
   "execution_count": null,
   "metadata": {
    "collapsed": true
   },
   "outputs": [],
   "source": []
  }
 ],
 "metadata": {
  "anaconda-cloud": {},
  "kernelspec": {
   "display_name": "Python [conda root]",
   "language": "python",
   "name": "conda-root-py"
  },
  "language_info": {
   "codemirror_mode": {
    "name": "ipython",
    "version": 3
   },
   "file_extension": ".py",
   "mimetype": "text/x-python",
   "name": "python",
   "nbconvert_exporter": "python",
   "pygments_lexer": "ipython3",
   "version": "3.5.2"
  }
 },
 "nbformat": 4,
 "nbformat_minor": 1
}
