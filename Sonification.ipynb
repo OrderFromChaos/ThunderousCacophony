{
 "cells": [
  {
   "cell_type": "code",
   "execution_count": 1,
   "metadata": {
    "collapsed": true
   },
   "outputs": [],
   "source": [
    "import math\n",
    "import audiolazy as al\n",
    "import pyaudio as pa\n",
    "import pygame"
   ]
  },
  {
   "cell_type": "code",
   "execution_count": 98,
   "metadata": {
    "collapsed": true
   },
   "outputs": [],
   "source": [
    "def playlist(freq, timestep,sampling):\n",
    "    #Accepts a list of frequencies and plays them with timestep lag\n",
    "    # Setup ----------------------\n",
    "    rate = sampling\n",
    "    s, Hz = al.sHz(rate)\n",
    "    ms = 1e-3 * s\n",
    "    # Note queue -----------------\n",
    "    note_init = al.karplus_strong(int(freq[0]) * Hz)\n",
    "    notes = note_init\n",
    "    for i in range(1,len(freq)):\n",
    "        notes += al.zeros(timestep * i * ms).append(al.karplus_strong(freq[i] * Hz))\n",
    "    notes *= 0.5\n",
    "    sound = notes.take(10 * s)\n",
    "    with al.AudioIO(True) as player: # True means \"wait for all sounds to stop\"\n",
    "        player.play(sound, rate=rate)"
   ]
  },
  {
   "cell_type": "code",
   "execution_count": 65,
   "metadata": {
    "collapsed": false
   },
   "outputs": [],
   "source": [
    "#playlist([440,880,100,200,300,400,500,600,700,800,900],300)\n",
    "playlist([100,200,300,400],300,31415) #Bach??"
   ]
  },
  {
   "cell_type": "code",
   "execution_count": 6,
   "metadata": {
    "collapsed": false
   },
   "outputs": [],
   "source": [
    "#Experimenting with AudioIO module\n",
    "with al.AudioIO(True) as player:\n",
    "    player.play([500], rate= 64000)"
   ]
  },
  {
   "cell_type": "code",
   "execution_count": 62,
   "metadata": {
    "collapsed": false
   },
   "outputs": [],
   "source": [
    "def playlistChords(freq, timestep, sampling):\n",
    "    #Accepts a list of same-time frequencies and plays them with timestep lag\n",
    "    # Setup ----------------------\n",
    "    rate = int(sampling)\n",
    "    s, Hz = al.sHz(rate)\n",
    "    ms = 1e-3 * s\n",
    "    # Note queue -----------------\n",
    "    note_init = al.karplus_strong(int(freq[0]) * Hz)\n",
    "    notes = note_init\n",
    "    \n",
    "    for i in range(1,len(freq)):\n",
    "        if isinstance(freq[i],list) == True:\n",
    "            for j in range(len(freq[i])):\n",
    "                notes += al.zeros(timestep * i * ms + j * ms).append(al.karplus_strong(freq[i][j] * Hz))\n",
    "        else:\n",
    "            notes += al.zeros(timestep * i * ms).append(al.karplus_strong(freq[i] * Hz))\n",
    "    \n",
    "    notes *= 0.5\n",
    "    sound = notes.take(10 * s)\n",
    "    with al.AudioIO(True) as player: # True means \"wait for all sounds to stop\"\n",
    "        player.play(sound, rate=rate)"
   ]
  },
  {
   "cell_type": "code",
   "execution_count": 64,
   "metadata": {
    "collapsed": false
   },
   "outputs": [],
   "source": [
    "playlistChords([300,[440,880],400,500,[400,800,1200,1600]],300,31415)"
   ]
  },
  {
   "cell_type": "code",
   "execution_count": 139,
   "metadata": {
    "collapsed": true
   },
   "outputs": [],
   "source": [
    "def applyMapping(data,ranges,equ): #equ = 1 for EquationMapping, 0 for not\n",
    "    data_init = data\n",
    "    if equ == 1:\n",
    "        data = [1/(1+math.e**-i) for i in data] # <------- Feel free to change this equation\n",
    "    #Don't mess with this line:\n",
    "    data = [(x-min(data))/(max(data)-min(data))*(ranges[1]-ranges[0])+ranges[0] for x in data]\n",
    "    \n",
    "    if equ == 1:\n",
    "        import matplotlib.pyplot as pypl\n",
    "        pypl.plot([x for x in data_init],data)\n",
    "        pypl.ylabel('Frequency in Hz')\n",
    "        pypl.xlabel('x value in equation')\n",
    "        pypl.show()\n",
    "    return data"
   ]
  },
  {
   "cell_type": "code",
   "execution_count": 134,
   "metadata": {
    "collapsed": true
   },
   "outputs": [],
   "source": [
    "def toMIDI(data,bpm,filename): #High BPM (300ish) recommended\n",
    "    #Code (excepting nearest()) cribbed from http://bit.ly/2rdVv7T\n",
    "    from midiutil import MIDIFile\n",
    "    \n",
    "    def nearest(dat):\n",
    "        #takes frequency data and converts it to the nearest midi key\n",
    "        #uses formula from \"The Glass Armonica\" (URL earlier in code)\n",
    "        mids = [int((12/math.log(2))*math.log(x/27.5)+21) for x in dat]\n",
    "        return mids\n",
    "    \n",
    "    degrees = nearest(data)\n",
    "    track    = 0\n",
    "    channel  = 0\n",
    "    time     = 0    # In beats\n",
    "    duration = 1    # In beats\n",
    "    tempo    = bpm   # In BPM\n",
    "    volume   = 100  # 0-127, as per the MIDI standard\n",
    "    \n",
    "    MyMIDI = MIDIFile(1)  # One track, defaults to format 1 (tempo track is created\n",
    "                          # automatically)\n",
    "    MyMIDI.addTempo(track, time, tempo)\n",
    "    \n",
    "    for i, pitch in enumerate(degrees):\n",
    "        MyMIDI.addNote(track, channel, pitch, time + i, duration, volume)\n",
    "    \n",
    "    with open(filename, 'wb') as output_file:\n",
    "        MyMIDI.writeFile(output_file)"
   ]
  },
  {
   "cell_type": "code",
   "execution_count": null,
   "metadata": {
    "collapsed": true
   },
   "outputs": [],
   "source": [
    "def playMIDI(filename):\n",
    "    pygame.mixer.init(31415,-16,1,1024)\n",
    "    \n",
    "    clock = pygame.time.Clock()\n",
    "    pygame.mixer.music.load(filename)\n",
    "    pygame.mixer.music.play()\n",
    "    while pygame.mixer.music.get_busy(): #Checks if playback finished\n",
    "        clock.tick(30)"
   ]
  },
  {
   "cell_type": "code",
   "execution_count": 144,
   "metadata": {
    "collapsed": true
   },
   "outputs": [],
   "source": [
    "conversions = [['21', 'A0', '27.5'],\n",
    "                ['22', 'A#0', '29.1'],\n",
    "                ['23', 'B0', '30.9'],\n",
    "                ['24', 'C1', '32.7'],\n",
    "                ['25', 'C#1', '34.6'],\n",
    "                ['26', 'D1', '36.7'],\n",
    "                ['27', 'D#1', '38.9'],\n",
    "                ['28', 'E1', '41.2'],\n",
    "                ['29', 'F1', '43.7'],\n",
    "                ['30', 'F#1', '46.2'],\n",
    "                ['31', 'G1', '49.0'],\n",
    "                ['32', 'G#1', '51.9'],\n",
    "                ['33', 'A1', '55.0'],\n",
    "                ['34', 'A#1', '58.3'],\n",
    "                ['35', 'B1', '61.7'],\n",
    "                ['36', 'C2', '65.4'],\n",
    "                ['37', 'C#2', '69.3'],\n",
    "                ['38', 'D2', '73.4'],\n",
    "                ['39', 'D#2', '77.8'],\n",
    "                ['40', 'E2', '82.4'],\n",
    "                ['41', 'F2', '87.3'],\n",
    "                ['42', 'F#2', '92.5'],\n",
    "                ['43', 'G2', '98.0'],\n",
    "                ['44', 'G#2', '103.8'],\n",
    "                ['45', 'A2', '110.0'],\n",
    "                ['46', 'A#2', '116.5'],\n",
    "                ['47', 'B2', '123.5'],\n",
    "                ['48', 'C3', '130.8'],\n",
    "                ['49', 'C#3', '138.6'],\n",
    "                ['50', 'D3', '146.8'],\n",
    "                ['51', 'D#3', '155.6'],\n",
    "                ['52', 'E3', '164.8'],\n",
    "                ['53', 'F3', '174.6'],\n",
    "                ['54', 'F#3', '185.0'],\n",
    "                ['55', 'G3', '196.0'],\n",
    "                ['56', 'G#3', '207.7'],\n",
    "                ['57', 'A3', '220.0'],\n",
    "                ['58', 'A#3', '233.1'],\n",
    "                ['59', 'B3', '246.9'],\n",
    "                ['60', 'C4', '261.6'],\n",
    "                ['61', 'C#4', '277.2'],\n",
    "                ['62', 'D4', '293.7'],\n",
    "                ['63', 'D#4', '311.1'],\n",
    "                ['64', 'E4', '329.6'],\n",
    "                ['65', 'F4', '349.2'],\n",
    "                ['66', 'F#4', '370.0'],\n",
    "                ['67', 'G4', '392.0'],\n",
    "                ['68', 'G#4', '415.3'],\n",
    "                ['69', 'A4', '440.0'],\n",
    "                ['70', 'A#4', '466.2'],\n",
    "                ['71', 'B4', '493.9'],\n",
    "                ['72', 'C5', '523.3'],\n",
    "                ['73', 'C#5', '554.4'],\n",
    "                ['74', 'D5', '587.3'],\n",
    "                ['75', 'D#5', '622.3'],\n",
    "                ['76', 'E5', '659.3'],\n",
    "                ['77', 'F5', '698.5'],\n",
    "                ['78', 'F#5', '740.0'],\n",
    "                ['79', 'G5', '784.0'],\n",
    "                ['80', 'G#5', '830.6'],\n",
    "                ['81', 'A5', '880.0'],\n",
    "                ['82', 'A#5', '932.3'],\n",
    "                ['83', 'B5', '987.8'],\n",
    "                ['84', 'C6', '1046.5'],\n",
    "                ['85', 'C#6', '1108.7'],\n",
    "                ['86', 'D6', '1174.7'],\n",
    "                ['87', 'D#6', '1244.5'],\n",
    "                ['88', 'E6', '1318.5'],\n",
    "                ['89', 'F6', '1396.9'],\n",
    "                ['90', 'F#6', '1480.0'],\n",
    "                ['91', 'G6', '1568.0'],\n",
    "                ['92', 'G#6', '1661.2'],\n",
    "                ['93', 'A6', '1760.0'],\n",
    "                ['94', 'A#6', '1864.7'],\n",
    "                ['95', 'B6', '1975.5'],\n",
    "                ['96', 'C7', '2093.0'],\n",
    "                ['97', 'C#7', '2217.5'],\n",
    "                ['98', 'D7', '2349.3'],\n",
    "                ['99', 'D#7', '2489.0'],\n",
    "                ['100', 'E7', '2637.0'],\n",
    "                ['101', 'F7', '2793.8'],\n",
    "                ['102', 'F#7', '2960.0'],\n",
    "                ['103', 'G7', '3136.0'],\n",
    "                ['104', 'G#7', '3322.4'],\n",
    "                ['105', 'A7', '3520.0'],\n",
    "                ['106', 'A#7', '3729.3'],\n",
    "                ['107', 'B7', '3951.1'],\n",
    "                ['108', 'C8', '4186.0']]\n",
    "rising_piano = [float(x[2]) for x in conversions][50:70]"
   ]
  },
  {
   "cell_type": "code",
   "execution_count": 145,
   "metadata": {
    "collapsed": true
   },
   "outputs": [],
   "source": [
    "def samples(num): #Pick a number between 1 and x\n",
    "    #Production of dataset: -------------------------------------\n",
    "    if num == 1: #Demonstrates equation listening\n",
    "        funcvals = applyMapping(range(-20,20),[200,1500],1)\n",
    "        playlist(funcvals,200,31415)\n",
    "    if num == 2: #Demonstrates MIDI writing and playback\n",
    "        funcvals = applyMapping(range(-20,20),[200,1500],1)\n",
    "        toMIDI(funcvals,300,'temp_sample.mid')\n",
    "        playMIDI('temp_sample.mid')\n",
    "    if num == 3: #Demonstrates basic rising notes\n",
    "        print('Rising notes...')\n",
    "        playlist(rising_piano,200,31415)"
   ]
  },
  {
   "cell_type": "code",
   "execution_count": 146,
   "metadata": {
    "collapsed": false
   },
   "outputs": [
    {
     "name": "stdout",
     "output_type": "stream",
     "text": [
      "Rising notes...\n"
     ]
    }
   ],
   "source": [
    "samples(3)"
   ]
  },
  {
   "cell_type": "code",
   "execution_count": 151,
   "metadata": {
    "collapsed": false
   },
   "outputs": [
    {
     "name": "stderr",
     "output_type": "stream",
     "text": [
      "C:\\Users\\Syris Norelli\\Anaconda3\\lib\\site-packages\\midiutil\\MidiFile.py:899: FutureWarning: Please explicitly set adjust_origin. Default behaviour will change in a future version.\n",
      "  FutureWarning)\n"
     ]
    }
   ],
   "source": [
    "toMIDI(parabola,300,'test.mid')\n",
    "playMIDI('test.mid')"
   ]
  },
  {
   "cell_type": "code",
   "execution_count": null,
   "metadata": {
    "collapsed": true
   },
   "outputs": [],
   "source": []
  }
 ],
 "metadata": {
  "anaconda-cloud": {},
  "kernelspec": {
   "display_name": "Python [conda root]",
   "language": "python",
   "name": "conda-root-py"
  },
  "language_info": {
   "codemirror_mode": {
    "name": "ipython",
    "version": 3
   },
   "file_extension": ".py",
   "mimetype": "text/x-python",
   "name": "python",
   "nbconvert_exporter": "python",
   "pygments_lexer": "ipython3",
   "version": "3.5.2"
  }
 },
 "nbformat": 4,
 "nbformat_minor": 1
}
