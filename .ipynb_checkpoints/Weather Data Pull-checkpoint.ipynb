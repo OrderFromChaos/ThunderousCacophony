{
 "cells": [
  {
   "cell_type": "code",
   "execution_count": 29,
   "metadata": {
    "collapsed": false
   },
   "outputs": [
    {
     "name": "stdout",
     "output_type": "stream",
     "text": [
      "Input File NameWeather_Fairbanks\n",
      "[['26494.0' '20050101.0' '100.0' ..., '-9999.0' '-9999.0' '-9999.0']\n",
      " ['26494.0' '20050101.0' '200.0' ..., '-9999.0' '-9999.0' '-9999.0']\n",
      " ['26494.0' '20050101.0' '300.0' ..., '-9999.0' '-9999.0' '-9999.0']\n",
      " ..., \n",
      " ['26494.0' '20051231.0' '2200.0' ..., '-9999.0' '-9999.0' '-9999.0']\n",
      " ['26494.0' '20051231.0' '2300.0' ..., '-9999.0' '-9999.0' '-9999.0']\n",
      " ['26494.0' '20060101.0' '0.0' ..., '-9999.0' '-9999.0' '-9999.0']]\n"
     ]
    }
   ],
   "source": [
    "import numpy as np\n",
    "\n",
    "def pull_Data(weatherdata):\n",
    "    for i in range(len(weatherdata)):\n",
    "        for j in range(len(weatherdata[i])):\n",
    "            name = weatherdata[i,j]\n",
    "            data = name.replace('\\'','')\n",
    "            if(data.isalpha() == False):     \n",
    "                number = data.replace('b','')\n",
    "                weatherdata[i,j] = float(number)\n",
    "            else:\n",
    "                weatherdata[i,j] = \"N/A\"\n",
    "            \n",
    "data_name = str(input(\"Input File Name\")) + \".txt\"\n",
    "\n",
    "weather_data = np.loadtxt(data_name,dtype=str)\n",
    "\n",
    "pull_Data(weather_data)\n",
    "print(weather_data)\n",
    "\n"
   ]
  },
  {
   "cell_type": "code",
   "execution_count": null,
   "metadata": {
    "collapsed": true
   },
   "outputs": [],
   "source": []
  }
 ],
 "metadata": {
  "kernelspec": {
   "display_name": "Python 3",
   "language": "python",
   "name": "python3"
  },
  "language_info": {
   "codemirror_mode": {
    "name": "ipython",
    "version": 3
   },
   "file_extension": ".py",
   "mimetype": "text/x-python",
   "name": "python",
   "nbconvert_exporter": "python",
   "pygments_lexer": "ipython3",
   "version": "3.6.0"
  }
 },
 "nbformat": 4,
 "nbformat_minor": 2
}
